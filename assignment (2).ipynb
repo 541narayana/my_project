{
 "cells": [
  {
   "cell_type": "code",
   "execution_count": 1,
   "metadata": {},
   "outputs": [
    {
     "name": "stdout",
     "output_type": "stream",
     "text": [
      "enter the no12\n",
      "the no is to no 12 * 1 is 12\n",
      "the no is to no 12 * 2 is 24\n",
      "the no is to no 12 * 3 is 36\n",
      "the no is to no 12 * 4 is 48\n",
      "the no is to no 12 * 5 is 60\n",
      "the no is to no 12 * 6 is 72\n",
      "the no is to no 12 * 7 is 84\n",
      "the no is to no 12 * 8 is 96\n",
      "the no is to no 12 * 9 is 108\n",
      "the no is to no 12 * 10 is 120\n",
      "thank you\n"
     ]
    }
   ],
   "source": [
    "# write a function that inputs a no and prints the multiplication table of that no\n",
    "\n",
    "def table():\n",
    "    a=int(input('enter the no'))\n",
    "    for x in range(1,11):\n",
    "        print('the no is to no {} * {} is {}'.format (a,x,a*x))\n",
    "    print('thank you')\n",
    "table()"
   ]
  },
  {
   "cell_type": "code",
   "execution_count": 3,
   "metadata": {},
   "outputs": [
    {
     "name": "stdout",
     "output_type": "stream",
     "text": [
      "1 and 3\n",
      "3 and 5\n",
      "5 and 7\n",
      "11 and 13\n",
      "17 and 19\n",
      "29 and 31\n",
      "41 and 43\n",
      "59 and 61\n",
      "71 and 73\n",
      "101 and 103\n",
      "107 and 109\n",
      "137 and 139\n",
      "149 and 151\n",
      "179 and 181\n",
      "191 and 193\n",
      "197 and 199\n",
      "227 and 229\n",
      "239 and 241\n",
      "269 and 271\n",
      "281 and 283\n",
      "311 and 313\n",
      "347 and 349\n",
      "419 and 421\n",
      "431 and 433\n",
      "461 and 463\n",
      "521 and 523\n",
      "569 and 571\n",
      "599 and 601\n",
      "617 and 619\n",
      "641 and 643\n",
      "659 and 661\n",
      "809 and 811\n",
      "821 and 823\n",
      "827 and 829\n",
      "857 and 859\n",
      "881 and 883\n"
     ]
    }
   ],
   "source": [
    "# 2 program twin prime number\n",
    "\n",
    "\n",
    "def prime(n):\n",
    "    for i in range(2,n):\n",
    "        if n%i==0:\n",
    "            return 0\n",
    "    return 1\n",
    "def twin_prime(start,end):\n",
    "    for i in range(start,end):\n",
    "        j=i+2\n",
    "        if(prime(i)and prime(j)):\n",
    "            print(\"{:d} and {:d}\".format(i,j))\n",
    "twin_prime(1,1000)"
   ]
  },
  {
   "cell_type": "code",
   "execution_count": 4,
   "metadata": {},
   "outputs": [
    {
     "name": "stdout",
     "output_type": "stream",
     "text": [
      "2\n",
      "3\n",
      "13.0\n"
     ]
    }
   ],
   "source": [
    "#  3 prime factor of no\n",
    "\n",
    "import math\n",
    "def prime_factor(n):\n",
    "    while n%2==0:\n",
    "        print(2) \n",
    "        n = n/2\n",
    "        for i in range(3,int(math.sqrt(n))+1,2):\n",
    "            while n%i==0:\n",
    "                print(i)\n",
    "                n=n/i\n",
    "    if n>2:\n",
    "        print(n)\n",
    "prime_factor(78)\n",
    "    "
   ]
  },
  {
   "cell_type": "code",
   "execution_count": 5,
   "metadata": {},
   "outputs": [
    {
     "name": "stdout",
     "output_type": "stream",
     "text": [
      "the permutation of 9 object taken 5 at time is 15120.0 \n",
      "no of combination of 9 object taken 5 at time is 126.0\n"
     ]
    }
   ],
   "source": [
    "#4  permutation combination\n",
    "\n",
    "def permutation_combination(n,r):\n",
    "    def fac(n):\n",
    "        if n==0:\n",
    "            return 1\n",
    "        else:\n",
    "            return n*fac(n-1)\n",
    "    if n>=r>=0:\n",
    "        permutation=fac(n)/fac(n-r)\n",
    "        print('the permutation of {} object taken {} at time is {} '.format(n,r,permutation))\n",
    "        combination=fac(n)/(fac(r)*fac(n-r))\n",
    "        print('no of combination of {} object taken {} at time is {}'.format(n,r,combination))\n",
    "    else:\n",
    "        print('be in your limit ')\n",
    "permutation_combination(9,5)"
   ]
  },
  {
   "cell_type": "code",
   "execution_count": 6,
   "metadata": {},
   "outputs": [
    {
     "name": "stdout",
     "output_type": "stream",
     "text": [
      "000100"
     ]
    }
   ],
   "source": [
    "#5 decimal to binary \n",
    "\n",
    "\n",
    "def decimal_to_binary(n):\n",
    "    if n>1:\n",
    "        decimal_to_binary(n//2)\n",
    "        print(n%2,end='')\n",
    "decimal_to_binary(68)"
   ]
  },
  {
   "cell_type": "code",
   "execution_count": 7,
   "metadata": {},
   "outputs": [
    {
     "name": "stdout",
     "output_type": "stream",
     "text": [
      "enter the value153\n",
      "153 is a armstrong no\n",
      "153.0\n"
     ]
    }
   ],
   "source": [
    "# 6 armstrong no\n",
    "\n",
    "def is_a_armstrong(n):\n",
    "    if n==cube_sum(str(n)):\n",
    "        printis_a_armstrong(n)\n",
    "    else:\n",
    "        print('is not a armstrong no')\n",
    "        \n",
    "def  printis_a_armstrong(n):\n",
    "    print('{} is a armstrong no'.format(n))\n",
    "    \n",
    "def cube_sum(n):\n",
    "    s=0\n",
    "    for i in n:\n",
    "        s=s+int(i)**3\n",
    "    return(s)\n",
    "\n",
    "    \n",
    "n=int(input('enter the value'))\n",
    "is_a_armstrong(n)\n",
    "\n",
    "\n",
    "\n",
    "import math\n",
    "def cube_sum(a,b,c):\n",
    "    d=math.pow(a,3)+math.pow(b,3)+math.pow(c,3)\n",
    "    print(d)\n",
    "    \n",
    "cube_sum(1,5,3)"
   ]
  },
  {
   "cell_type": "code",
   "execution_count": 1,
   "metadata": {},
   "outputs": [
    {
     "name": "stdout",
     "output_type": "stream",
     "text": [
      "enter the no27\n",
      "14\n"
     ]
    }
   ],
   "source": [
    "# 7 def get_product\n",
    "\n",
    "def get_product(n):\n",
    "    product=1\n",
    "    while(n!=0):\n",
    "        product=product*(n%10)\n",
    "        n=n//10\n",
    "    return product\n",
    "n=int(input('enter the no:'))\n",
    "print(get_product(n))"
   ]
  },
  {
   "cell_type": "code",
   "execution_count": 3,
   "metadata": {},
   "outputs": [
    {
     "name": "stdout",
     "output_type": "stream",
     "text": [
      "enter a no:86\n",
      "mdr:6 mper:3\n"
     ]
    }
   ],
   "source": [
    "#8\n",
    "\n",
    "def get_product(n):\n",
    "    product=1\n",
    "    for i in str(n):\n",
    "        product=product*int(i)\n",
    "    product+=1\n",
    "    return(product-1)\n",
    "c=int(input('enter a no:'))\n",
    "count=0\n",
    "while c>=10:\n",
    "    c=get_product(c)\n",
    "    count+=1\n",
    "print(\"mdr:{} mper:{}\".format(c,count))"
   ]
  },
  {
   "cell_type": "code",
   "execution_count": 5,
   "metadata": {},
   "outputs": [
    {
     "data": {
      "text/plain": [
       "55.0"
      ]
     },
     "execution_count": 5,
     "metadata": {},
     "output_type": "execute_result"
    }
   ],
   "source": [
    "#9\n",
    "\n",
    "import math\n",
    "def sumPdivisor(n):\n",
    "    result=0\n",
    "    i=2\n",
    "    while i<=(math.sqrt(n)):\n",
    "        if (n%i==0):\n",
    "            if(i==(n/i)):\n",
    "                result=result+i\n",
    "            else:\n",
    "                result=result+(i+n/i)\n",
    "        i=i+1\n",
    "        \n",
    "    return(result+1)\n",
    "sumPdivisor(36)"
   ]
  },
  {
   "cell_type": "code",
   "execution_count": 15,
   "metadata": {},
   "outputs": [
    {
     "name": "stdout",
     "output_type": "stream",
     "text": [
      "enter the range:28\n",
      "6 is a perfect no\n",
      "28 is a perfect no\n"
     ]
    }
   ],
   "source": [
    "#10\n",
    "\n",
    "import math\n",
    "def sumPdivisor(n):\n",
    "    result=1\n",
    "    i=2\n",
    "    while (i<=math.sqrt(n)):\n",
    "        if (n%i==0):\n",
    "            if(i==(n/i)):\n",
    "                result=result+i\n",
    "            else:\n",
    "                result=result+(i+n/i)\n",
    "        i=i+1\n",
    "        \n",
    "    return(result)\n",
    "\n",
    "n=int(input('enter the range:'))\n",
    "i=1\n",
    "for i in range(n+1):\n",
    "    if i!=1:\n",
    "        if i==sumPdivisor(i):\n",
    "            print('{} is a perfect no'.format(i))"
   ]
  },
  {
   "cell_type": "code",
   "execution_count": 9,
   "metadata": {},
   "outputs": [
    {
     "name": "stdout",
     "output_type": "stream",
     "text": [
      "enter the range:1000\n",
      "220 and 284 are amicable pair\n"
     ]
    }
   ],
   "source": [
    "#11\n",
    "\n",
    "import math\n",
    "def sumPdivisor(n):\n",
    "    result=1\n",
    "    i=2\n",
    "    while (i<=math.sqrt(n)):\n",
    "        if (n%i==0):\n",
    "            if(i==(n/i)):\n",
    "                result=result+i\n",
    "            else:\n",
    "                result=result+(i+n/i)\n",
    "        i=i+1\n",
    "        \n",
    "    return(result)\n",
    "def countpair(n):\n",
    "    for i in range(1,n+1):\n",
    "        a=i+1\n",
    "        for a in range(i,n+1):\n",
    "            if sumPdivisor(i)==a and i== sumPdivisor(a) and i!=a:\n",
    "                print('{} and {} are amicable pair'.format(i,a))\n",
    "                \n",
    "n=int(input('enter the range:'))\n",
    "countpair(n)"
   ]
  },
  {
   "cell_type": "code",
   "execution_count": 9,
   "metadata": {},
   "outputs": [
    {
     "name": "stdout",
     "output_type": "stream",
     "text": [
      "list of odd no are: [1, 3, 5, 7, 9]\n"
     ]
    }
   ],
   "source": [
    "# 12\n",
    "\n",
    "list1=[1,2,3,4,5,6,7,8,9,10]\n",
    "def ODD(n):\n",
    "    if n%2!=0:\n",
    "        return 1\n",
    "    else:\n",
    "        return 0\n",
    "out_filter=filter(ODD,list1)\n",
    "\n",
    "print('list of odd no are:',list(out_filter))\n",
    "\n"
   ]
  },
  {
   "cell_type": "code",
   "execution_count": 5,
   "metadata": {},
   "outputs": [
    {
     "name": "stdout",
     "output_type": "stream",
     "text": [
      "enter the list1,2,3\n",
      "\n",
      "the cube of no are\n",
      "\n",
      "1 8 27 "
     ]
    }
   ],
   "source": [
    "# 13\n",
    "\n",
    "def cube(n):\n",
    "    return n**3\n",
    "list1=[]\n",
    "list1=map(int,input('enter the list').split(','))\n",
    "print()\n",
    "list1=map(cube,list1)\n",
    "print('the cube of no are')\n",
    "print()\n",
    "for i in list1:\n",
    "    print(i,end=(\" \"))"
   ]
  },
  {
   "cell_type": "code",
   "execution_count": 1,
   "metadata": {},
   "outputs": [
    {
     "name": "stdout",
     "output_type": "stream",
     "text": [
      "enter the list1,2,3,4,5,6,7,8,9,10\n",
      "\n",
      "the cube of no are\n",
      "\n",
      "8 64 216 512 1000 "
     ]
    }
   ],
   "source": [
    "#14\n",
    "\n",
    "def cube(n):\n",
    "    return n**3\n",
    "def even(a):\n",
    "    if a%2==0:\n",
    "        return True\n",
    "    else:\n",
    "        return False\n",
    "list1=[]\n",
    "list1=map(int,input('enter the list').split(','))\n",
    "print()\n",
    "list1=map(cube,filter(even,list1))\n",
    "print('the cube of no are')\n",
    "print()\n",
    "for i in list1:\n",
    "    print(i,end=(\" \"))\n",
    "    "
   ]
  },
  {
   "cell_type": "code",
   "execution_count": null,
   "metadata": {},
   "outputs": [],
   "source": []
  }
 ],
 "metadata": {
  "kernelspec": {
   "display_name": "Python 3",
   "language": "python",
   "name": "python3"
  },
  "language_info": {
   "codemirror_mode": {
    "name": "ipython",
    "version": 3
   },
   "file_extension": ".py",
   "mimetype": "text/x-python",
   "name": "python",
   "nbconvert_exporter": "python",
   "pygments_lexer": "ipython3",
   "version": "3.7.4"
  }
 },
 "nbformat": 4,
 "nbformat_minor": 2
}
